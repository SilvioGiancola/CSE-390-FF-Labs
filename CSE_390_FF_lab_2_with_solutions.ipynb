{
 "cells": [
  {
   "cell_type": "markdown",
   "metadata": {},
   "source": [
    "## <center>  CS390FF: Special Topics in Data Sciences (Big Data Optimization) </center>\n",
    "\n",
    "<center> KAUST </center>\n",
    "\n",
    "<center>Lecturer: Peter Richtarik</center>\n",
    "\n",
    "<center>TA: Filip Hanzely</center>\n",
    "\n",
    "\n",
    "##  <center>Lab 2: Randomized Iterative Methods for Linear Systems</center>\n",
    "<center>(C) Dominik Csiba, Filip Hanzely and Peter Richtarik </center>\n",
    "<center> 12.9.2017 </center>\n",
    "\n",
    "\n",
    "## 1. Introduction\n",
    "\n",
    "\n",
    "Consider the problem of solving a consistent linear system:\n",
    "\n",
    "$$Ax = b,$$\n",
    "\n",
    "where $A\\in \\mathbb{R}^{m\\times n}$ and $b\\in \\mathbb{R}^m$. Recall that the <b>basic method</b> with stepsize $\\omega>0$ performs iterations of the form\n",
    "\n",
    "$$ x_{k+1} \\leftarrow x_{k} - \\omega B^{-1} A^\\top S_k (S_k^\\top A B^{-1} A^\\top S_k)^\\dagger S_k^\\top (Ax_k-b), $$\n",
    "\n",
    "where \n",
    "- $B$ is a fixed $n\\times n$ positive definite matrix, and\n",
    "- $S_k$ is drawn in an i.i.d. fashion from a fixed distribution $\\cal D$.\n",
    "\n",
    "Recall that the method can be interpreted in several ways (e.g., stochastic gradient descent, stochastic Newton descent, stochastic fixed point method with relaxation, stochastic projection method).\n",
    "\n",
    "### 1.1 Convergence\n",
    "\n",
    "We shall prove in the course that, under some assumptions (assuming that $E[H]$ is positive definite is sufficient), the basic method with unit stepsize $(\\omega=1)$ converges. In particular, let $x_*$ be the $B$-projection of the starting point $x_0$ onto ${\\cal L} = \\{x\\;:\\; Ax=b\\}$. Then\n",
    "\n",
    "$$ E\\left[\\|x_k-x_*\\|_B^2\\right] \\leq \\rho^k \\|x_0-x_*\\|_B^2,$$\n",
    "\n",
    "where\n",
    "\n",
    "$$\\rho = 1 - \\lambda_{\\min}^+(W), \\qquad W = B^{-1/2}A^\\top E\\left[H\\right] A B^{-1/2}.$$\n",
    "\n",
    "By $\\lambda_{\\min}^+(W)$ we mean the smallest nonzero eigenvalue of $W$.\n",
    "\n",
    "In this lab, the <b>basic method</b> with unit stepsize was coded up for you. Play with the code and try to see what it does. There will be some exercices at the end. Do at least one - there will be no time to do (much) more than that in the lab. However, you are strongly encouraged to work on some of the other exercises at home.\n",
    "\n",
    "### 1.2 Randomized Kaczmarz (RK) method\n",
    "\n",
    "Let $e_1,e_2,\\dots,e_m$ be the standard basis vectors in $\\mathbb{R}^m$. That is, $e_i = (0,\\dots,0,1,0,\\dots,0)\\in \\mathbb{R}^m$, where 1 is in position $i$. If $\\cal D$ is given by $S_k = e_i$ with probability $p_i>0$ for all $i=1,2,\\dots,m$, and if $B$ is chosen to be equal to the identity matrix, then the basic method reduces to an algorithm that is known under the name <b>randomized Kaczmarz method</b> [1]. \n",
    "\n",
    "The standard randomized Kaczmarz method [1] uses the probabilities\n",
    "\n",
    "$$p_i = \\frac{\\|A_{i:}^\\top\\|_2^2}{\\sum_{j=1}^m \\|A_{j:}^\\top\\|_2^2} = \\frac{\\|A_{i:}^\\top\\|_2^2}{\\|A\\|_F^2},$$\n",
    "\n",
    "where $\\|A\\|_F$ denotes the <b>Frobenius norm</b> of $A$. Note that the Frobenius norm of $A$ is the standard Euclidean norm of the  vector obtained from the entries of $A$ by stacking them up into a single  vector in $\\mathbb{R}^{mn}$.\n",
    "\n",
    "Further, note that \n",
    "\n",
    "$$W = A^\\top E\\left[H\\right] A $$\n",
    "\n",
    "where for the standard RK method we have\n",
    "$$\\begin{eqnarray}E[H] &=& E [S (S^\\top A  A^\\top S)^\\dagger S^\\top] \n",
    "\\\\\n",
    "&=& \\sum_{i=1}^m p_i e_i (e_i^\\top A  A^\\top e_i)^\\dagger e_i^\\top\\\\\n",
    "&=& \\sum_{i=1}^m \\frac{p_i}{\\|A_{i:}^\\top\\|_2^2} e_i e_i^\\top \\\\\n",
    "&=& \\frac{1}{\\|A\\|^2_F} \\sum_{i=1}^m e_i e_i^\\top \\\\\n",
    "&=& \\frac{I}{\\|A\\|^2_F},\n",
    "\\end{eqnarray}$$\n",
    "\n",
    "where $I$ denotes the $m\\times m$ identity matrix. Therefore, the convergence rate of the standard RK method is given by\n",
    "\n",
    "$$\\rho = 1 - \\lambda_{\\min}^+(W) = 1 - \\lambda_{\\min}^+\\left(\\frac{A^\\top A}{\\|A\\|_F^2}\\right) = 1 - \\frac{\\lambda_{\\min}^+\\left(A^\\top A\\right)}{\\|A\\|_F^2}.$$\n",
    "\n",
    "\n",
    "### 1.3 Bibliography Remarks\n",
    "\n",
    "The randomized Kaczmarz method was developed in [1]. The lectures on linear systems are largely based on [4]. You may wish to read [2] to get more insights about the basic method, beyond what we have covered in class. A duality theory was developed in [3].\n",
    "\n",
    "[1] Thomas Strohmer and Roman Vershynin. A randomized Kaczmarz algorithm with exponential convergence, <i>Journal of Fourier Analysis and Applications,</i> 15:262, 2009.\n",
    "\n",
    "[2] Robert Gower and Peter Richtarik. Randomized iterative methods for linear systems, <i>SIAM Journal on Matrix Analysis and Applications</i> 36(4):1660-1690,  2015.\n",
    "\n",
    "[3] Robert Gower and Peter Richtarik. Stochastic dual ascent for solving linear systems, <i>arXiv:1512.06890</i>, 2015.\n",
    "\n",
    "[4] Peter Richtarik and Martin Takac. Stochastic reformulations of linear systems and efficient randomized algorithms, <i>Manuscript,</i> 2016.\n",
    "\n",
    "\n",
    "\n",
    "\n"
   ]
  },
  {
   "cell_type": "markdown",
   "metadata": {},
   "source": [
    "## 2. Generate data\n",
    "\n",
    "We first generate an $m\\times n$ matrix $A$, then a random vector $x^*$ ($\\verb\"x_star\"$) and finally, set $b = A x^*$. This way we will know the system we have generated is consistent (i.e., that it has a solution).\n",
    "\n",
    "## 2.1 Silly synthetic data"
   ]
  },
  {
   "cell_type": "code",
   "execution_count": 2,
   "metadata": {
    "collapsed": false
   },
   "outputs": [
    {
     "data": {
      "text/plain": [
       "1000-element Array{Float64,1}:\n",
       "   0.334528\n",
       "   2.18282 \n",
       "   6.6722  \n",
       "  10.0642  \n",
       "   4.27898 \n",
       "   1.46443 \n",
       "   1.01054 \n",
       "  -0.908806\n",
       "  -8.40474 \n",
       "  -3.98806 \n",
       "  -5.25256 \n",
       "   3.95305 \n",
       "  -7.94644 \n",
       "   ⋮       \n",
       "   2.05124 \n",
       "  -0.194267\n",
       "  -6.17476 \n",
       "  -3.55684 \n",
       " -10.759   \n",
       "  16.0267  \n",
       "   7.1659  \n",
       " -14.1444  \n",
       "  -3.0117  \n",
       "  -1.17877 \n",
       "  -4.56065 \n",
       "   5.16672 "
      ]
     },
     "execution_count": 2,
     "metadata": {},
     "output_type": "execute_result"
    }
   ],
   "source": [
    "srand(1) # set random seed to 1\n",
    "\n",
    "m = 1000\n",
    "n = 50\n",
    "\n",
    "# Generate random matrix A\n",
    "\n",
    "A = randn(m,n) # A has random standard normal entries. For uniform entries on [0,1], use rand() \n",
    "x_star = randn(n)\n",
    "b = A*x_star"
   ]
  },
  {
   "cell_type": "markdown",
   "metadata": {},
   "source": [
    "## 2.2 Smarter synthetic data (good for randomized Kaczmarz)\n",
    "\n",
    "We now generate a matrix $A\\in \\mathbb{R}^{m\\times n}$ such that the randomized Kaczmarz rate \n",
    "\n",
    "$$\\rho =1 - \\frac{\\lambda_{\\min}^+(A^\\top A)}{\\|A\\|_F^2} = 1 - \\frac{\\lambda_{\\min}^+(A^\\top A)}{Tr(A^\\top A)}$$ \n",
    "\n",
    "is under control. Specifically, we shall select the eigenvalues of $A^\\top A$ first, and then construct a random matrix $A\\in \\mathbb{R}^{m\\times n}$ whose spectrum is fixed this way. The trick is to assemble $A$ via its SVD (singular value decomposition):  \n",
    "\n",
    "$$A = U D V^\\top,$$ \n",
    "\n",
    "where $U\\in \\mathbb{R}^{m\\times m}$ and $V\\in \\mathbb{R}^{n \\times n}$ are orthonormal matrices and $D\\in \\mathbb{R}^{m\\times n}$ is diagonal (that is, $D_{ij}=0$ for $i\\neq j$). Note that given the SVD, we have  \n",
    "\n",
    "$$A^\\top A = V D^\\top D V^\\top,$$ \n",
    "\n",
    "and hence the eigenvalues of $A^\\top A$ are $D_{ii}^2$ for $i=1,2,\\dots, \\min\\{m,n\\}$. \n",
    "\n",
    "Hence, \n",
    "\n",
    "$$\\rho = 1 - \\frac{\\min_i D_{ii}^2}{\\sum_{i} D_{ii}^2}.$$\n",
    "\n",
    "So, we first generate the eigenvalues $D_{ii}^2$, and then generate two random orthoginal matrices $U\\in \\mathbb{R}^{m\\times m}$ and $V\\in \\mathbb{R}^{n\\times n}$ by performing a QR decomposition of random matrices of appropriate sizes. After this, we simply assemble $A$ from these three components via $A = U D V^\\top$.\n"
   ]
  },
  {
   "cell_type": "code",
   "execution_count": 3,
   "metadata": {
    "collapsed": false
   },
   "outputs": [
    {
     "name": "stdout",
     "output_type": "stream",
     "text": [
      "rho = 0.9818054911530927\n"
     ]
    },
    {
     "data": {
      "text/plain": [
       "1000-element Array{Float64,1}:\n",
       "  2.59111   \n",
       " -0.556459  \n",
       " -0.17882   \n",
       "  0.402689  \n",
       " -0.278817  \n",
       " -2.70223   \n",
       " -0.263991  \n",
       " -2.0643    \n",
       " -0.179974  \n",
       "  1.89966   \n",
       " -2.52629   \n",
       " -3.90315   \n",
       " -1.5513    \n",
       "  ⋮         \n",
       " -0.985235  \n",
       "  1.56159   \n",
       "  4.84442   \n",
       " -0.74797   \n",
       "  1.19115   \n",
       "  1.15037   \n",
       " -1.76833   \n",
       " -1.09004   \n",
       " -0.205697  \n",
       "  1.6215    \n",
       " -0.286106  \n",
       " -0.00876614"
      ]
     },
     "execution_count": 3,
     "metadata": {},
     "output_type": "execute_result"
    }
   ],
   "source": [
    "m = 1000\n",
    "n = 50\n",
    "\n",
    "D = zeros(m,n)\n",
    "\n",
    "for i=1:min(m,n)   \n",
    "  D[i,i] = 10 + rand()   \n",
    "end\n",
    "\n",
    "lambda_min = minimum(diag(D'*D))\n",
    "lambda_sum = sum(diag(D'*D))\n",
    "rho = 1- lambda_min/lambda_sum\n",
    "println(\"rho = \",rho)\n",
    "\n",
    "(U,RU) = qr(randn(m,m))\n",
    "(V,RV) = qr(randn(n,n))\n",
    "A = U*D*V'\n",
    "\n",
    "x_star = randn(n)\n",
    "b = A*x_star\n"
   ]
  },
  {
   "cell_type": "markdown",
   "metadata": {},
   "source": [
    "## 2.3 Average consensus problem\n",
    "\n",
    "Consider the following problem: We have $n$ nodes on an undirected graph, with node $i$ containing value $c_i\\in \\mathbb{R}$. We wish to develop a <b>decentralized average consensus algorithm.</b> Decentralization means that in each iteration of the algorithm, only a small number of neighboring nodes can communicate (their local information) and perform computation. By consensus we mean that we wish all nodes of the network to contain the average of the values $c_1,\\dots,c_n$ at the end of the process. The process can be iterative, in which case the values computed at each nodes will only converge to the average of the $c_i$ values, not necessarily reaching this in finite time.\n",
    "\n",
    "${\\bf Fact.}$ The optimal value of the optimization problem \n",
    "\n",
    "$$\\min_{t\\in \\mathbb{R}} \\sum_{i=1}^n (c_i-t)^2$$\n",
    "\n",
    "is  $t = \\bar{c}:= \\frac{1}{n}\\sum_{i=1}^n c_i.$\n",
    "\n",
    "Using the above fact, we observe that the optimal solution of the optimization problem\n",
    "\n",
    "$$\\min \\|y-c\\|_2^2 \\quad \\text{subject to} \\quad y_1=y_2=\\dots=y_n$$\n",
    "\n",
    "is $y = \\bar{c}e$, where $e\\in \\mathbb{R}^n$ is the vector of all ones. Under the change of variables $x = y-c$, we can equivalently write the problem in the form\n",
    "\n",
    "$$\\min \\|x\\|_2^2 \\quad \\text{subject to} \\quad x_1 + c_1 = x_2 + c_2 =\\dots=x_n + c_n.$$\n",
    "\n",
    "Finally, the problem can be written in the form \n",
    "\n",
    "$$\\min \\|x\\|_2^2 \\quad \\text{subject to} \\quad Ax = b,$$\n",
    "\n",
    "where $Ax=b$ is the linear system whose $i$th equation is $x_i + c_i = x_{i+1}+c_{i+1}$ for $i=1,2,\\dots,n-1$. That is, $A = [e_1-e_2; e_2-e_3; \\dots ; e_{n-1} - e_n]$, where $e_i$ is the $i$th unit coordinate vector, and $b = [c_2-c_1; c_3-c_2; \\dots; c_n-c_{n-1}]$. \n",
    "\n",
    "We can now directly apply the basic method (with unit stepsize) to the last problem -- as the method, when started from $x_0 = 0$, automatically finds the least-norm solution of the linear system $Ax=b$.\n",
    "\n"
   ]
  },
  {
   "cell_type": "code",
   "execution_count": 4,
   "metadata": {
    "collapsed": false
   },
   "outputs": [
    {
     "name": "stdout",
     "output_type": "stream",
     "text": [
      "A = [1.0 -1.0 0.0 0.0 0.0 0.0 0.0 0.0 0.0 0.0; 0.0 1.0 -1.0 0.0 0.0 0.0 0.0 0.0 0.0 0.0; 0.0 0.0 1.0 -1.0 0.0 0.0 0.0 0.0 0.0 0.0; 0.0 0.0 0.0 1.0 -1.0 0.0 0.0 0.0 0.0 0.0; 0.0 0.0 0.0 0.0 1.0 -1.0 0.0 0.0 0.0 0.0; 0.0 0.0 0.0 0.0 0.0 1.0 -1.0 0.0 0.0 0.0; 0.0 0.0 0.0 0.0 0.0 0.0 1.0 -1.0 0.0 0.0; 0.0 0.0 0.0 0.0 0.0 0.0 0.0 1.0 -1.0 0.0; 0.0 0.0 0.0 0.0 0.0 0.0 0.0 0.0 1.0 -1.0]\n"
     ]
    },
    {
     "data": {
      "text/plain": [
       "10-element Array{Float64,1}:\n",
       "  4.5\n",
       "  3.5\n",
       "  2.5\n",
       "  1.5\n",
       "  0.5\n",
       " -0.5\n",
       " -1.5\n",
       " -2.5\n",
       " -3.5\n",
       " -4.5"
      ]
     },
     "execution_count": 4,
     "metadata": {},
     "output_type": "execute_result"
    }
   ],
   "source": [
    "# MODEL 1\n",
    "\n",
    "n = 10\n",
    "m = 10\n",
    "\n",
    "A = zeros(m,n)\n",
    "c = 1:n\n",
    "b = zeros(m)\n",
    "\n",
    "for i=1:n-1\n",
    "    A[i,i] = 1\n",
    "    A[i,i+1] = -1\n",
    "    b[i] = c[i+1]-c[i]\n",
    "end\n",
    "A[n,n] = 1\n",
    "A[n,1] = -1\n",
    "b[n] = c[1] - c[n]\n",
    "\n",
    "\n",
    "\n",
    "# MODEL 2\n",
    "\n",
    "n = 10\n",
    "m = 9\n",
    "\n",
    "A = zeros(m,n)\n",
    "c = 1:n\n",
    "b = zeros(m)\n",
    "\n",
    "for i=1:n-1\n",
    "    A[i,i] = 1\n",
    "    A[i,i+1] = -1\n",
    "    b[i] = c[i+1]-c[i]\n",
    "end\n",
    "\n",
    "# PRINT THE DATA MATRIX\n",
    "#println(A[1,2])\n",
    "println(\"A = \", A)\n",
    "\n",
    "# PRINT THE SOLUTION\n",
    "\n",
    "y_star = ones(n)*sum(c)/n  # averages should be\n",
    "x_star =  y_star - c       # this is what the algorithm should compute"
   ]
  },
  {
   "cell_type": "markdown",
   "metadata": {},
   "source": [
    "## 3. The Generic Solver\n",
    "\n",
    "The two functions below implement the general version of the basic method."
   ]
  },
  {
   "cell_type": "code",
   "execution_count": 5,
   "metadata": {
    "collapsed": false
   },
   "outputs": [
    {
     "data": {
      "text/plain": [
       "RandomLinearSolve (generic function with 1 method)"
      ]
     },
     "execution_count": 5,
     "metadata": {},
     "output_type": "execute_result"
    }
   ],
   "source": [
    "function iterate(x, A, b, Binv, S)\n",
    "    \n",
    "    # println(x)\n",
    "    return x - Binv*A'*S*pinv(S'*A*Binv*A'*S)*S'*(A*x - b) # ' is the transpose operator, it has higher priority than *\n",
    "   \n",
    "    \n",
    "end\n",
    "\n",
    "\n",
    "function RandomLinearSolve(x, A, b, Binv, sampling, T, skip)\n",
    "    \n",
    "    (m,n) = size(A)\n",
    "    xs = zeros(n, floor(Integer, T/skip) + 1) # will remember the iterates x here\n",
    "    fv = zeros(floor(Integer, T/skip) + 1)    # will remember residuals ||Ax-b|| here\n",
    "    \n",
    "    tic()\n",
    "    time = 0\n",
    "    \n",
    "    for t=0:T\n",
    "        tic()\n",
    "        x = iterate(x, A, b, Binv, sampling()) # notice that the last argument is a function\n",
    "        time = time + toq()\n",
    "        if t % skip == 0\n",
    "            xs[:,round(Int,t/skip)+1] = x           # remember iterate x\n",
    "            fv[round(Int,t/skip)+1] = norm(A*x-b)   # remeber residual \n",
    "            println(\"iteration: $(t), residual: $(fv[round(Int,t/skip+1)]) \")\n",
    "        end\n",
    "    end\n",
    "        \n",
    "    println(\"Time = \", time)\n",
    "    return xs,fv\n",
    "    \n",
    "end"
   ]
  },
  {
   "cell_type": "markdown",
   "metadata": {},
   "source": [
    "## 4. Sampling\n",
    "\n",
    "We now write a function which outputs a random matrix $S$ (\"sampling/sketching\") which is equal to a random coordinate vector in $\\mathbb{R}^m$ chosen uniformly at random.\n",
    "\n",
    "${\\bf Problem:}$ You may want to modify the $\\verb\"sampling()\"$ function so that the probabilities are proportional to the squared norms of the rows of $A$ -- as initially proposed by Strohmer and Vershynin."
   ]
  },
  {
   "cell_type": "code",
   "execution_count": 6,
   "metadata": {
    "collapsed": false
   },
   "outputs": [
    {
     "data": {
      "text/plain": [
       "sampling (generic function with 1 method)"
      ]
     },
     "execution_count": 6,
     "metadata": {},
     "output_type": "execute_result"
    }
   ],
   "source": [
    "function sampling() # for non-uniform sampling, looks into the function \"sample\" in the package StatsBase\n",
    "    \n",
    "    S = zeros(m)\n",
    "    S[rand(1:m)] = 1 # rand(range) returns a random number in the given range\n",
    "    return S\n",
    "    \n",
    "end\n",
    "\n"
   ]
  },
  {
   "cell_type": "markdown",
   "metadata": {},
   "source": [
    "## 5. Plotting"
   ]
  },
  {
   "cell_type": "code",
   "execution_count": 7,
   "metadata": {
    "collapsed": false
   },
   "outputs": [
    {
     "data": {
      "text/plain": [
       "PlotResults (generic function with 1 method)"
      ]
     },
     "execution_count": 7,
     "metadata": {},
     "output_type": "execute_result"
    }
   ],
   "source": [
    "using PyPlot\n",
    "\n",
    "function PlotResults(B, x_star, xs, fv)\n",
    "    \n",
    "    ax = axes()\n",
    "    plt[:plot](skip*(0:length(fv)-1), fv, \"-\", linewidth=3.0, label=L\"||Ax - b||\")\n",
    "    plt[:plot](skip*(0:length(fv)-1), [sqrt((xs[:,i]-x_star)'*B*(xs[:,i]-x_star)) for i=1:length(fv)] , \":\", linewidth=3.0, label=L\"||x - x^*||_B\")\n",
    "    legend(loc=\"upper right\")\n",
    "    ylabel(\"error\", fontsize=20)\n",
    "    xlabel(\"iterations\")\n",
    "    ax[:set_yscale](\"log\")\n",
    "    plt[:show]\n",
    "    \n",
    "end"
   ]
  },
  {
   "cell_type": "markdown",
   "metadata": {},
   "source": [
    "## 6. Solve the problem"
   ]
  },
  {
   "cell_type": "code",
   "execution_count": 8,
   "metadata": {
    "collapsed": false
   },
   "outputs": [
    {
     "data": {
      "image/png": "[encoded data removed]",
      "text/plain": [
       "PyPlot.Figure(PyObject <matplotlib.figure.Figure object at 0x7f85e817b110>)"
      ]
     },
     "metadata": {},
     "output_type": "display_data"
    },
    {
     "name": "stdout",
     "output_type": "stream",
     "text": [
      "iteration: 0, residual: 3.24037034920393 \n",
      "iteration: 300, residual: 0.8707812486037247 \n",
      "iteration: 600, residual: 0.15776494213753914 \n",
      "iteration: 900, residual: 0.033152005060007386 \n",
      "iteration: 1200, residual: 0.006172194307691391 \n",
      "iteration: 1500, residual: 0.001186920450074113 \n",
      "iteration: 1800, residual: 0.00021253048814241142 \n",
      "iteration: 2100, residual: 4.921526615137537e-5 \n",
      "iteration: 2400, residual: 9.15086956750092e-6 \n",
      "iteration: 2700, residual: 2.0698546409104987e-6 \n",
      "iteration: 3000, residual: 4.272042949123716e-7 \n",
      "iteration: 3300, residual: 1.52363700135574e-7 \n",
      "iteration: 3600, residual: 2.213631057759221e-8 \n",
      "iteration: 3900, residual: 5.293898850410827e-9 \n",
      "iteration: 4200, residual: 7.724650029598371e-10 \n",
      "iteration: 4500, residual: 1.6822565797365718e-10 \n",
      "iteration: 4800, residual: 4.601858798140509e-11 \n",
      "iteration: 5100, residual: 7.75129732404657e-12 \n",
      "iteration: 5400, residual: 1.500853610985844e-12 \n",
      "iteration: 5700, residual: 3.4565648773666267e-13 \n",
      "iteration: 6000, residual: 5.998575173782931e-14 \n",
      "iteration: 6300, residual: 1.231096671328401e-14 \n",
      "iteration: 6600, residual: 3.800791407964896e-15 \n",
      "iteration: 6900, residual: 1.041481514324134e-15 \n",
      "iteration: 7200, residual: 8.881784197001252e-16 \n",
      "iteration: 7500, residual: 1.1322097734007351e-15 \n",
      "iteration: 7800, residual: 1.1749496091904413e-15 \n",
      "iteration: 8100, residual: 1.1322097734007351e-15 \n",
      "iteration: 8400, residual: 8.881784197001252e-16 \n",
      "iteration: 8700, residual: 1.336885555457667e-15 \n",
      "iteration: 9000, residual: 9.992007221626409e-16 \n",
      "Time = 0.5797093139999996\n"
     ]
    },
    {
     "data": {
      "text/plain": [
       "PyObject <function show at 0x7f85e840eb90>"
      ]
     },
     "execution_count": 8,
     "metadata": {},
     "output_type": "execute_result"
    }
   ],
   "source": [
    "x = zeros(n)  # initial iterate\n",
    "#x = c\n",
    "\n",
    "Binv = eye(n) # matrix B is one of the 2 parameters of the method\n",
    "\n",
    "T = 1000*m       # no of iterations \n",
    "skip = round(T/30)    # we shall remember x each \"skip\" number of iterations\n",
    "\n",
    "# Now we solve the problem\n",
    "xs, fv = RandomLinearSolve(x, A, b, Binv, sampling, T, skip)\n",
    "\n",
    "# Let us now plot the results\n",
    "B = inv(Binv)\n",
    "PlotResults(B, x_star, xs, fv)"
   ]
  },
  {
   "cell_type": "markdown",
   "metadata": {},
   "source": [
    "## 7. Extra output for the consensus problem"
   ]
  },
  {
   "cell_type": "code",
   "execution_count": 15,
   "metadata": {
    "collapsed": false
   },
   "outputs": [
    {
     "name": "stdout",
     "output_type": "stream",
     "text": [
      "average to be found = 5.5\n",
      "vector found = [5.5,5.5,5.5,5.5,5.5,5.5,5.5,5.5,5.5,5.5]\n",
      "error = 4.440892098500626e-15\n"
     ]
    }
   ],
   "source": [
    "x_last = xs[:,size(xs)[2]]\n",
    "println(\"average to be found = \", sum(c)/n)\n",
    "println(\"vector found = \",x_last+c)\n",
    "println(\"error = \", norm(x_last+c-ones(n)*sum(c)/n))"
   ]
  },
  {
   "cell_type": "markdown",
   "metadata": {},
   "source": [
    "## Problem A\n",
    "\n",
    "Code up a dedicated randomized Kaczmarz solver. That is, do it in an efficient way so that one does not need to run the $\\verb\"iterate\"$ function. Clearly, this function is rather inefficient - this is because it is so generic."
   ]
  },
  {
   "cell_type": "code",
   "execution_count": 9,
   "metadata": {
    "collapsed": false
   },
   "outputs": [
    {
     "name": "stderr",
     "output_type": "stream",
     "text": [
      "WARNING: Method definition Kac_sampling() in module Main at In[1]:3 overwritten at In[9]:3.\n"
     ]
    },
    {
     "data": {
      "text/plain": [
       "Kac_sampling (generic function with 1 method)"
      ]
     },
     "execution_count": 9,
     "metadata": {},
     "output_type": "execute_result"
    }
   ],
   "source": [
    "using StatsBase\n",
    "function Kac_sampling() # for non-uniform sampling, looks into the function \"sample\" in the package StatsBase\n",
    "    w=zeros(size(A)[1])\n",
    "    for i=1:size(A)[1]\n",
    "        w[i]=norm(A[i,:]) \n",
    "    end  \n",
    "    w=w./sum(w)\n",
    "    return sample(Weights(w))\n",
    "    \n",
    "end"
   ]
  },
  {
   "cell_type": "code",
   "execution_count": 10,
   "metadata": {
    "collapsed": false
   },
   "outputs": [
    {
     "data": {
      "text/plain": [
       "RandomKaczmarzSolve (generic function with 1 method)"
      ]
     },
     "execution_count": 10,
     "metadata": {},
     "output_type": "execute_result"
    }
   ],
   "source": [
    "function RandomKaczmarzSolve(x, A, b, T, skip)\n",
    "    \n",
    "    (m,n) = size(A)\n",
    "    xs = zeros(n, floor(Integer, T/skip) + 1) # will remember the iterates x here\n",
    "    fv = zeros(floor(Integer, T/skip) + 1)    # will remember residuals ||Ax-b|| here\n",
    "    \n",
    "    tic()\n",
    "    time = 0\n",
    "    \n",
    "    for t=0:T\n",
    "        tic()\n",
    "        coord=Kac_sampling()\n",
    "        x = x - A[coord,:].*(A[coord,:]'*x - b[coord])/(A[coord,:]'*A[coord,:]) \n",
    "        time = time + toq()\n",
    "        if t % skip == 0\n",
    "            xs[:,round(Int,t/skip)+1] = x           # remember iterate x\n",
    "            fv[round(Int,t/skip)+1] = norm(A*x-b)   # remeber residual \n",
    "            println(\"iteration: $(t), residual: $(fv[round(Int,t/skip+1)]) \")\n",
    "        end\n",
    "    end\n",
    "        \n",
    "    println(\"Time = \", time)\n",
    "    return xs,fv\n",
    "    \n",
    "end"
   ]
  },
  {
   "cell_type": "code",
   "execution_count": 11,
   "metadata": {
    "collapsed": false
   },
   "outputs": [
    {
     "name": "stdout",
     "output_type": "stream",
     "text": [
      "iteration: 0, residual: 3.24037034920393 \n",
      "iteration: 300, residual: 0.8930677857582938 \n",
      "iteration: 600, residual: 0.15426997985911978 \n",
      "iteration: 900, residual: 0.03630971576962195 \n",
      "iteration: 1200, residual: 0.008003186131486338 \n",
      "iteration: 1500, residual: 0.0013150223070551733 \n",
      "iteration: 1800, residual: 0.00023781429243353747 \n",
      "iteration: 2100, residual: 3.1097361263914594e-5 \n",
      "iteration: 2400, residual: 7.161525297197683e-6 \n",
      "iteration: 2700, residual: 1.0378087842701594e-6 \n",
      "iteration: 3000, residual: 2.521477153745923e-7 \n",
      "iteration: 3300, residual: 4.846520790348748e-8 \n",
      "iteration: 3600, residual: 8.9167730940335e-9 \n",
      "iteration: 3900, residual: 1.9303296113388758e-9 \n",
      "iteration: 4200, residual: 4.0878488913689625e-10 \n",
      "iteration: 4500, residual: 6.982309194366007e-11 \n",
      "iteration: 4800, residual: 1.5843417619178734e-11 \n",
      "iteration: 5100, residual: 2.2673445641481114e-12 \n"
     ]
    },
    {
     "data": {
      "image/png": "[encoded data removed]",
      "text/plain": [
       "PyPlot.Figure(PyObject <matplotlib.figure.Figure object at 0x7f85e606ca50>)"
      ]
     },
     "metadata": {},
     "output_type": "display_data"
    },
    {
     "name": "stdout",
     "output_type": "stream",
     "text": [
      "iteration: 5400, residual: 3.6428495028618437e-13 \n",
      "iteration: 5700, residual: 1.0675179748641686e-13 \n",
      "iteration: 6000, residual: 2.1466098300860907e-14 \n",
      "iteration: 6300, residual: 5.1801155131095756e-15 \n",
      "iteration: 6600, residual: 1.9100999153570945e-15 \n",
      "iteration: 6900, residual: 1.7763568394002505e-15 \n",
      "iteration: 7200, residual: 1.9891280697202825e-15 \n",
      "iteration: 7500, residual: 1.3506446028928519e-15 \n",
      "iteration: 7800, residual: 1.7377739072730912e-15 \n",
      "iteration: 8100, residual: 1.6203171603697468e-15 \n",
      "iteration: 8400, residual: 1.7483809675615383e-15 \n",
      "iteration: 8700, residual: 1.2212453270876722e-15 \n",
      "iteration: 9000, residual: 1.0934428697813141e-15 \n",
      "Time = 0.7731887989999963\n"
     ]
    },
    {
     "data": {
      "text/plain": [
       "PyObject <function show at 0x7f85e840eb90>"
      ]
     },
     "execution_count": 11,
     "metadata": {},
     "output_type": "execute_result"
    }
   ],
   "source": [
    "x = zeros(n)  # initial iterate\n",
    "#x = c\n",
    "\n",
    "\n",
    "Binv = eye(n) # matrix B is one of the 2 parameters of the method\n",
    "\n",
    "T = 1000*m       # no of iterations \n",
    "skip = round(T/30)    # we shall remember x each \"skip\" number of iterations\n",
    "\n",
    "# Now we solve the problem\n",
    "xs, fv = RandomKaczmarzSolve(x, A, b, T, skip)\n",
    "\n",
    "# Let us now plot the results\n",
    "\n",
    "PlotResults(eye(n), x_star, xs, fv)"
   ]
  },
  {
   "cell_type": "markdown",
   "metadata": {},
   "source": [
    "## Problem B\n",
    "\n",
    "Assume that $A^\\top A$ is positive definite. In this case, we can set $B=A^\\top A$. Run the basic method with this choice of $B$, and with $S = e_i$ with probability $1/m$. How do the iterates look like? That is, how does $x_{k+1}$ differ from $x_k$?"
   ]
  },
  {
   "cell_type": "markdown",
   "metadata": {},
   "source": [
    "Note that we have $A (A^{\\top}A)^{-1} A^\\top = I$. Clearly, \n",
    "\\begin{eqnarray}\n",
    "x_{k+1}-x_k&=&B^{-1} A^\\top S_k (S_k^\\top A B^{-1} A^\\top S_k)^\\dagger S_k^\\top (Ax_k-b)\\\\\n",
    "&=&(A^{\\top}A)^{-1} A^\\top S_k (S_k^\\top A (A^{\\top}A)^{-1} A^\\top S_k)^\\dagger S_k^\\top A(x_k-x^*)\n",
    "&=&(A^{\\top}A)^{-1} A^\\top S_k (S_k^\\top A (A^{\\top}A)^{-1} A^\\top S_k)^\\dagger S_k^\\top A(x_k-x^*)\n",
    "\\end{eqnarray}"
   ]
  },
  {
   "cell_type": "code",
   "execution_count": 12,
   "metadata": {
    "collapsed": false
   },
   "outputs": [
    {
     "name": "stdout",
     "output_type": "stream",
     "text": [
      "rho = 0.9093672820898635\n"
     ]
    },
    {
     "data": {
      "text/plain": [
       "12-element Array{Float64,1}:\n",
       "  -0.922754\n",
       "  13.0405  \n",
       "  -7.19636 \n",
       "  15.7477  \n",
       "   6.57753 \n",
       "  -0.667516\n",
       "   4.41323 \n",
       " -10.0365  \n",
       "  -7.51385 \n",
       "   3.24034 \n",
       "  11.0845  \n",
       "   1.5194  "
      ]
     },
     "execution_count": 12,
     "metadata": {},
     "output_type": "execute_result"
    }
   ],
   "source": [
    "#m>=n in order to get positive definite B=A'*A\n",
    "m = 12\n",
    "n = 10\n",
    "\n",
    "D = zeros(m,n)\n",
    "\n",
    "for i=1:min(m,n)   \n",
    "  D[i,i] = 10 + rand()   \n",
    "end\n",
    "\n",
    "lambda_min = minimum(diag(D'*D))\n",
    "lambda_sum = sum(diag(D'*D))\n",
    "rho = 1- lambda_min/lambda_sum\n",
    "println(\"rho = \",rho)\n",
    "\n",
    "(U,RU) = qr(randn(m,m))\n",
    "(V,RV) = qr(randn(n,n))\n",
    "A = U*D*V'\n",
    "\n",
    "x_star = randn(n)\n",
    "b = A*x_star\n"
   ]
  },
  {
   "cell_type": "code",
   "execution_count": 13,
   "metadata": {
    "collapsed": false
   },
   "outputs": [
    {
     "data": {
      "image/png": "[encoded data removed]",
      "text/plain": [
       "PyPlot.Figure(PyObject <matplotlib.figure.Figure object at 0x7f85e6014fd0>)"
      ]
     },
     "metadata": {},
     "output_type": "display_data"
    },
    {
     "name": "stdout",
     "output_type": "stream",
     "text": [
      "iteration: 0, residual: 27.95214296837818 \n",
      "iteration: 40, residual: 0.9224428718607263 \n",
      "iteration: 80, residual: 0.026109499895892823 \n",
      "iteration: 120, residual: 0.010767069916472442 \n",
      "iteration: 160, residual: 9.615915407718062e-5 \n",
      "iteration: 200, residual: 5.673365902772475e-7 \n",
      "iteration: 240, residual: 1.043089067249758e-8 \n",
      "iteration: 280, residual: 1.6799129881574973e-9 \n",
      "iteration: 320, residual: 7.214266207172517e-11 \n",
      "iteration: 360, residual: 1.5106557918903604e-12 \n",
      "iteration: 400, residual: 4.7563695869372187e-14 \n",
      "iteration: 440, residual: 4.189529226675416e-15 \n",
      "iteration: 480, residual: 4.165926057296536e-15 \n",
      "iteration: 520, residual: 4.027524346742929e-15 \n",
      "iteration: 560, residual: 5.068262347813025e-15 \n",
      "iteration: 600, residual: 5.551115123125783e-15 \n",
      "iteration: 640, residual: 3.2406343207394936e-15 \n",
      "iteration: 680, residual: 5.912393666071813e-15 \n",
      "iteration: 720, residual: 5.277940006822452e-15 \n",
      "iteration: 760, residual: 5.725996103146448e-15 \n",
      "iteration: 800, residual: 7.259873912822375e-15 \n",
      "iteration: 840, residual: 3.418333242764116e-15 \n",
      "iteration: 880, residual: 3.6418022968069345e-15 \n",
      "iteration: 920, residual: 5.009554625647218e-15 \n",
      "iteration: 960, residual: 4.242156220644677e-15 \n",
      "iteration: 1000, residual: 8.131199457573037e-15 \n",
      "iteration: 1040, residual: 6.2842938400131246e-15 \n",
      "iteration: 1080, residual: 6.0768866309697284e-15 \n",
      "iteration: 1120, residual: 6.620504818089212e-15 \n",
      "iteration: 1160, residual: 3.447059237218225e-15 \n",
      "iteration: 1200, residual: 5.145497462003087e-15 \n",
      "Time = 0.009285113000000003\n"
     ]
    },
    {
     "data": {
      "text/plain": [
       "PyObject <function show at 0x7f85e840eb90>"
      ]
     },
     "execution_count": 13,
     "metadata": {},
     "output_type": "execute_result"
    }
   ],
   "source": [
    "x = zeros(n)  # initial iterate\n",
    "#x = c\n",
    "\n",
    "Binv = inv(A'*A) # matrix B is one of the 2 parameters of the method\n",
    "\n",
    "T = 100*m       # no of iterations \n",
    "skip = round(T/30)    # we shall remember x each \"skip\" number of iterations\n",
    "\n",
    "# Now we solve the problem\n",
    "xs, fv = RandomLinearSolve(x, A, b, Binv, sampling, T, skip)\n",
    "\n",
    "# Let us now plot the results\n",
    "B = inv(Binv)\n",
    "PlotResults(B, x_star, xs, fv)\n"
   ]
  },
  {
   "cell_type": "markdown",
   "metadata": {},
   "source": [
    "## Problem C\n",
    "\n",
    "Now define $\\cal D$ as follows: \n",
    "\n",
    "$$S = I_{:C},$$ \n",
    "\n",
    "where $C$ is a random subset of $\\{1,2,\\dots,n\\}$ of fixed cardinality $\\tau$ chosen uniformly at random. Test the basic method for various choices of $\\tau$. \n",
    "\n",
    "Find a $3\\times 3$ matrix $A$ such that running the randomized Newton method with $\\tau=2$ is vastly (= as much as you want) better than running it with $\\tau=1$."
   ]
  },
  {
   "cell_type": "code",
   "execution_count": 14,
   "metadata": {
    "collapsed": false
   },
   "outputs": [
    {
     "data": {
      "text/plain": [
       "τ_sampling (generic function with 1 method)"
      ]
     },
     "execution_count": 14,
     "metadata": {},
     "output_type": "execute_result"
    }
   ],
   "source": [
    "#sample τ coordinates\n",
    "\n",
    "function τ_sampling()\n",
    "    ind=[convert(Int64,x) for x in sample(1:m, τ, replace=false)]\n",
    "    S=eye(m)[:,ind]\n",
    "    return S\n",
    "end"
   ]
  },
  {
   "cell_type": "code",
   "execution_count": 17,
   "metadata": {
    "collapsed": false
   },
   "outputs": [
    {
     "data": {
      "image/png": "[encoded data removed]",
      "text/plain": [
       "PyPlot.Figure(PyObject <matplotlib.figure.Figure object at 0x7f85e6106f90>)"
      ]
     },
     "metadata": {},
     "output_type": "display_data"
    },
    {
     "name": "stdout",
     "output_type": "stream",
     "text": [
      "iteration: 0, residual: 7.5 \n",
      "iteration: 1, residual: 6.0 \n",
      "iteration: 2, residual: 6.0 \n",
      "iteration: 3, residual: 6.0 \n",
      "iteration: 4, residual: 6.0 \n",
      "iteration: 5, residual: 4.800000000000001 \n",
      "iteration: 6, residual: 4.800000000000001 \n",
      "iteration: 7, residual: 6.661338147750939e-16 \n",
      "iteration: 8, residual: 0.0 \n",
      "iteration: 9, residual: 0.0 \n",
      "iteration: 10, residual: 0.0 \n",
      "iteration: 11, residual: 0.0 \n",
      "iteration: 12, residual: 0.0 \n",
      "iteration: 13, residual: 0.0 \n",
      "iteration: 14, residual: 0.0 \n",
      "iteration: 15, residual: 0.0 \n",
      "iteration: 16, residual: 0.0 \n",
      "iteration: 17, residual: 0.0 \n",
      "iteration: 18, residual: 0.0 \n",
      "iteration: 19, residual: 0.0 \n",
      "iteration: 20, residual: 0.0 \n",
      "iteration: 21, residual: 0.0 \n",
      "iteration: 22, residual: 0.0 \n",
      "iteration: 23, residual: 0.0 \n",
      "iteration: 24, residual: 0.0 \n",
      "iteration: 25, residual: 0.0 \n",
      "iteration: 26, residual: 0.0 \n",
      "iteration: 27, residual: 0.0 \n",
      "iteration: 28, residual: 0.0 \n",
      "iteration: 29, residual: 0.0 \n",
      "iteration: 30, residual: 0.0 \n",
      "iteration: 31, residual: 0.0 \n",
      "iteration: 32, residual: 0.0 \n",
      "iteration: 33, residual: 0.0 \n",
      "iteration: 34, residual: 0.0 \n",
      "iteration: 35, residual: 0.0 \n",
      "iteration: 36, residual: 0.0 \n",
      "iteration: 37, residual: 0.0 \n",
      "iteration: 38, residual: 0.0 \n",
      "iteration: 39, residual: 0.0 \n",
      "iteration: 40, residual: 0.0 \n",
      "iteration: 41, residual: 0.0 \n",
      "iteration: 42, residual: 0.0 \n",
      "iteration: 43, residual: 0.0 \n",
      "iteration: 44, residual: 0.0 \n",
      "iteration: 45, residual: 0.0 \n",
      "iteration: 46, residual: 0.0 \n",
      "iteration: 47, residual: 0.0 \n",
      "iteration: 48, residual: 0.0 \n",
      "iteration: 49, residual: 0.0 \n",
      "iteration: 50, residual: 0.0 \n",
      "iteration: 51, residual: 0.0 \n",
      "iteration: 52, residual: 0.0 \n",
      "iteration: 53, residual: 0.0 \n",
      "iteration: 54, residual: 0.0 \n",
      "iteration: 55, residual: 0.0 \n",
      "iteration: 56, residual: 0.0 \n",
      "iteration: 57, residual: 0.0 \n",
      "iteration: 58, residual: 0.0 \n",
      "iteration: 59, residual: 0.0 \n",
      "iteration: 60, residual: 0.0 \n",
      "iteration: 61, residual: 0.0 \n",
      "iteration: 62, residual: 0.0 \n",
      "iteration: 63, residual: 0.0 \n",
      "iteration: 64, residual: 0.0 \n",
      "iteration: 65, residual: 0.0 \n",
      "iteration: 66, residual: 0.0 \n",
      "iteration: 67, residual: 0.0 \n",
      "iteration: 68, residual: 0.0 \n",
      "iteration: 69, residual: 0.0 \n",
      "iteration: 70, residual: 0.0 \n",
      "iteration: 71, residual: 0.0 \n",
      "iteration: 72, residual: 0.0 \n",
      "iteration: 73, residual: 0.0 \n",
      "iteration: 74, residual: 0.0 \n",
      "iteration: 75, residual: 0.0 \n",
      "iteration: 76, residual: 0.0 \n",
      "iteration: 77, residual: 0.0 \n",
      "iteration: 78, residual: 0.0 \n",
      "iteration: 79, residual: 0.0 \n",
      "iteration: 80, residual: 0.0 \n",
      "iteration: 81, residual: 0.0 \n",
      "iteration: 82, residual: 0.0 \n",
      "iteration: 83, residual: 0.0 \n",
      "iteration: 84, residual: 0.0 \n",
      "iteration: 85, residual: 0.0 \n",
      "iteration: 86, residual: 0.0 \n",
      "iteration: 87, residual: 0.0 \n",
      "iteration: 88, residual: 0.0 \n",
      "iteration: 89, residual: 0.0 \n",
      "iteration: 90, residual: 0.0 \n",
      "iteration: 91, residual: 0.0 \n",
      "iteration: 92, residual: 0.0 \n",
      "iteration: 93, residual: 0.0 \n",
      "iteration: 94, residual: 0.0 \n",
      "iteration: 95, residual: 0.0 \n",
      "iteration: 96, residual: 0.0 \n",
      "iteration: 97, residual: 0.0 \n",
      "iteration: 98, residual: 0.0 \n",
      "iteration: 99, residual: 0.0 \n",
      "iteration: 100, residual: 0.0 \n",
      "iteration: 101, residual: 0.0 \n",
      "iteration: 102, residual: 0.0 \n",
      "iteration: 103, residual: 0.0 \n",
      "iteration: 104, residual: 0.0 \n",
      "iteration: 105, residual: 0.0 \n",
      "iteration: 106, residual: 0.0 \n",
      "iteration: 107, residual: 0.0 \n",
      "iteration: 108, residual: 0.0 \n",
      "iteration: 109, residual: 0.0 \n",
      "iteration: 110, residual: 0.0 \n",
      "iteration: 111, residual: 0.0 \n",
      "iteration: 112, residual: 0.0 \n",
      "iteration: 113, residual: 0.0 \n",
      "iteration: 114, residual: 0.0 \n",
      "iteration: 115, residual: 0.0 \n",
      "iteration: 116, residual: 0.0 \n",
      "iteration: 117, residual: 0.0 \n",
      "iteration: 118, residual: 0.0 \n",
      "iteration: 119, residual: 0.0 \n",
      "iteration: 120, residual: 0.0 \n",
      "iteration: 121, residual: 0.0 \n",
      "iteration: 122, residual: 0.0 \n",
      "iteration: 123, residual: 0.0 \n",
      "iteration: 124, residual: 0.0 \n",
      "iteration: 125, residual: 0.0 \n",
      "iteration: 126, residual: 0.0 \n",
      "iteration: 127, residual: 0.0 \n",
      "iteration: 128, residual: 0.0 \n",
      "iteration: 129, residual: 0.0 \n",
      "iteration: 130, residual: 0.0 \n",
      "iteration: 131, residual: 0.0 \n",
      "iteration: 132, residual: 0.0 \n",
      "iteration: 133, residual: 0.0 \n",
      "iteration: 134, residual: 0.0 \n",
      "iteration: 135, residual: 0.0 \n",
      "iteration: 136, residual: 0.0 \n",
      "iteration: 137, residual: 0.0 \n",
      "iteration: 138, residual: 0.0 \n",
      "iteration: 139, residual: 0.0 \n",
      "iteration: 140, residual: 0.0 \n",
      "iteration: 141, residual: 0.0 \n",
      "iteration: 142, residual: 0.0 \n",
      "iteration: 143, residual: 0.0 \n",
      "iteration: 144, residual: 0.0 \n",
      "iteration: 145, residual: 0.0 \n",
      "iteration: 146, residual: 0.0 \n",
      "iteration: 147, residual: 0.0 \n",
      "iteration: 148, residual: 0.0 \n",
      "iteration: 149, residual: 0.0 \n",
      "iteration: 150, residual: 0.0 \n",
      "iteration: 151, residual: 0.0 \n",
      "iteration: 152, residual: 0.0 \n",
      "iteration: 153, residual: 0.0 \n",
      "iteration: 154, residual: 0.0 \n",
      "iteration: 155, residual: 0.0 \n",
      "iteration: 156, residual: 0.0 \n",
      "iteration: 157, residual: 0.0 \n",
      "iteration: 158, residual: 0.0 \n",
      "iteration: 159, residual: 0.0 \n",
      "iteration: 160, residual: 0.0 \n",
      "iteration: 161, residual: 0.0 \n",
      "iteration: 162, residual: 0.0 \n",
      "iteration: 163, residual: 0.0 \n",
      "iteration: 164, residual: 0.0 \n",
      "iteration: 165, residual: 0.0 \n",
      "iteration: 166, residual: 0.0 \n",
      "iteration: 167, residual: 0.0 \n",
      "iteration: 168, residual: 0.0 \n",
      "iteration: 169, residual: 0.0 \n",
      "iteration: 170, residual: 0.0 \n",
      "iteration: 171, residual: 0.0 \n",
      "iteration: 172, residual: 0.0 \n",
      "iteration: 173, residual: 0.0 \n",
      "iteration: 174, residual: 0.0 \n",
      "iteration: 175, residual: 0.0 \n",
      "iteration: 176, residual: 0.0 \n",
      "iteration: 177, residual: 0.0 \n",
      "iteration: 178, residual: 0.0 \n",
      "iteration: 179, residual: 0.0 \n",
      "iteration: 180, residual: 0.0 \n",
      "iteration: 181, residual: 0.0 \n",
      "iteration: 182, residual: 0.0 \n",
      "iteration: 183, residual: 0.0 \n",
      "iteration: 184, residual: 0.0 \n",
      "iteration: 185, residual: 0.0 \n",
      "iteration: 186, residual: 0.0 \n",
      "iteration: 187, residual: 0.0 \n",
      "iteration: 188, residual: 0.0 \n",
      "iteration: 189, residual: 0.0 \n",
      "iteration: 190, residual: 0.0 \n",
      "iteration: 191, residual: 0.0 \n",
      "iteration: 192, residual: 0.0 \n",
      "iteration: 193, residual: 0.0 \n",
      "iteration: 194, residual: 0.0 \n",
      "iteration: 195, residual: 0.0 \n",
      "iteration: 196, residual: 0.0 \n",
      "iteration: 197, residual: 0.0 \n",
      "iteration: 198, residual: 0.0 \n",
      "iteration: 199, residual: 0.0 \n",
      "iteration: 200, residual: 0.0 \n",
      "iteration: 201, residual: 0.0 \n",
      "iteration: 202, residual: 0.0 \n",
      "iteration: 203, residual: 0.0 \n",
      "iteration: 204, residual: 0.0 \n",
      "iteration: 205, residual: 0.0 \n",
      "iteration: 206, residual: 0.0 \n",
      "iteration: 207, residual: 0.0 \n",
      "iteration: 208, residual: 0.0 \n",
      "iteration: 209, residual: 0.0 \n",
      "iteration: 210, residual: 0.0 \n",
      "iteration: 211, residual: 0.0 \n",
      "iteration: 212, residual: 0.0 \n",
      "iteration: 213, residual: 0.0 \n",
      "iteration: 214, residual: 0.0 \n",
      "iteration: 215, residual: 0.0 \n",
      "iteration: 216, residual: 0.0 \n",
      "iteration: 217, residual: 0.0 \n",
      "iteration: 218, residual: 0.0 \n",
      "iteration: 219, residual: 0.0 \n",
      "iteration: 220, residual: 0.0 \n",
      "iteration: 221, residual: 0.0 \n",
      "iteration: 222, residual: 0.0 \n",
      "iteration: 223, residual: 0.0 \n",
      "iteration: 224, residual: 0.0 \n",
      "iteration: 225, residual: 0.0 \n",
      "iteration: 226, residual: 0.0 \n",
      "iteration: 227, residual: 0.0 \n",
      "iteration: 228, residual: 0.0 \n",
      "iteration: 229, residual: 0.0 \n",
      "iteration: 230, residual: 0.0 \n",
      "iteration: 231, residual: 0.0 \n",
      "iteration: 232, residual: 0.0 \n",
      "iteration: 233, residual: 0.0 \n",
      "iteration: 234, residual: 0.0 \n",
      "iteration: 235, residual: 0.0 \n",
      "iteration: 236, residual: 0.0 \n",
      "iteration: 237, residual: 0.0 \n",
      "iteration: 238, residual: 0.0 \n",
      "iteration: 239, residual: 0.0 \n",
      "iteration: 240, residual: 0.0 \n",
      "iteration: 241, residual: 0.0 \n",
      "iteration: 242, residual: 0.0 \n",
      "iteration: 243, residual: 0.0 \n",
      "iteration: 244, residual: 0.0 \n",
      "iteration: 245, residual: 0.0 \n",
      "iteration: 246, residual: 0.0 \n",
      "iteration: 247, residual: 0.0 \n",
      "iteration: 248, residual: 0.0 \n",
      "iteration: 249, residual: 0.0 \n",
      "iteration: 250, residual: 0.0 \n",
      "iteration: 251, residual: 0.0 \n",
      "iteration: 252, residual: 0.0 \n",
      "iteration: 253, residual: 0.0 \n",
      "iteration: 254, residual: 0.0 \n",
      "iteration: 255, residual: 0.0 \n",
      "iteration: 256, residual: 0.0 \n",
      "iteration: 257, residual: 0.0 \n",
      "iteration: 258, residual: 0.0 \n",
      "iteration: 259, residual: 0.0 \n",
      "iteration: 260, residual: 0.0 \n",
      "iteration: 261, residual: 0.0 \n",
      "iteration: 262, residual: 0.0 \n",
      "iteration: 263, residual: 0.0 \n",
      "iteration: 264, residual: 0.0 \n",
      "iteration: 265, residual: 0.0 \n",
      "iteration: 266, residual: 0.0 \n",
      "iteration: 267, residual: 0.0 \n",
      "iteration: 268, residual: 0.0 \n",
      "iteration: 269, residual: 0.0 \n",
      "iteration: 270, residual: 0.0 \n",
      "iteration: 271, residual: 0.0 \n",
      "iteration: 272, residual: 0.0 \n",
      "iteration: 273, residual: 0.0 \n",
      "iteration: 274, residual: 0.0 \n",
      "iteration: 275, residual: 0.0 \n",
      "iteration: 276, residual: 0.0 \n",
      "iteration: 277, residual: 0.0 \n",
      "iteration: 278, residual: 0.0 \n",
      "iteration: 279, residual: 0.0 \n",
      "iteration: 280, residual: 0.0 \n",
      "iteration: 281, residual: 0.0 \n",
      "iteration: 282, residual: 0.0 \n",
      "iteration: 283, residual: 0.0 \n",
      "iteration: 284, residual: 0.0 \n",
      "iteration: 285, residual: 0.0 \n",
      "iteration: 286, residual: 0.0 \n",
      "iteration: 287, residual: 0.0 \n",
      "iteration: 288, residual: 0.0 \n",
      "iteration: 289, residual: 0.0 \n",
      "iteration: 290, residual: 0.0 \n",
      "iteration: 291, residual: 0.0 \n",
      "iteration: 292, residual: 0.0 \n",
      "iteration: 293, residual: 0.0 \n",
      "iteration: 294, residual: 0.0 \n",
      "iteration: 295, residual: 0.0 \n",
      "iteration: 296, residual: 0.0 \n",
      "iteration: 297, residual: 0.0 \n",
      "iteration: 298, residual: 0.0 \n",
      "iteration: 299, residual: 0.0 \n",
      "iteration: 300, residual: 0.0 \n",
      "Time = 0.041774690999999996\n"
     ]
    },
    {
     "data": {
      "text/plain": [
       "PyObject <function show at 0x7f85e840eb90>"
      ]
     },
     "execution_count": 17,
     "metadata": {},
     "output_type": "execute_result"
    }
   ],
   "source": [
    "# For the example below, one can see that A depends only on x_1 and x_2. Thus when C={1,2}, the problem is solved exactly \n",
    "# (we need on average 3 iterations to solve it). Note that when τ=1, the problem is not going to be solved exactly. \n",
    "n=3\n",
    "m=3\n",
    "A=[1 -0.5 0;-0.5 1 0; 0 0 0]\n",
    "\n",
    "x_star=[0,0,0]\n",
    "b=[0,0,0]\n",
    "x=[5,10,0]\n",
    "\n",
    "#choose τ=1 and τ=2 to see the difference\n",
    "τ=2\n",
    "\n",
    "#x = c\n",
    "\n",
    "Binv = eye(n) #inv(A'*A) # matrix B is one of the 2 parameters of the method\n",
    "\n",
    "T = 100       # no of iterations \n",
    "skip = round(1)    # we shall remember x each \"skip\" number of iterations\n",
    "\n",
    "# Now we solve the problem\n",
    "xs, fv = RandomLinearSolve(x, A, b, Binv, τ_sampling, T, skip)\n",
    "\n",
    "# Let us now plot the results\n",
    "B = inv(Binv)\n",
    "PlotResults(B, x_star, xs, fv)\n"
   ]
  },
  {
   "cell_type": "markdown",
   "metadata": {},
   "source": [
    "## Problem D\n",
    "\n",
    "Play with variants of the basic method where $S$ is a random Gaussian vector."
   ]
  },
  {
   "cell_type": "code",
   "execution_count": 18,
   "metadata": {
    "collapsed": false
   },
   "outputs": [
    {
     "name": "stdout",
     "output_type": "stream",
     "text": [
      "rho = 0.9068731055999391\n"
     ]
    },
    {
     "data": {
      "image/png": "[encoded data removed]",
      "text/plain": [
       "PyPlot.Figure(PyObject <matplotlib.figure.Figure object at 0x7f85e5fffd90>)"
      ]
     },
     "metadata": {},
     "output_type": "display_data"
    },
    {
     "name": "stdout",
     "output_type": "stream",
     "text": [
      "iteration: 0, residual: 33.21798673026 \n",
      "iteration: 33, residual: 2.847496122526715 \n",
      "iteration: 66, residual: 0.9849514733899145 \n",
      "iteration: 99, residual: 0.21423779932487258 \n",
      "iteration: 132, residual: 0.0599055195501058 \n",
      "iteration: 165, residual: 0.010000427788025037 \n",
      "iteration: 198, residual: 0.0037082558723509234 \n",
      "iteration: 231, residual: 0.0005923640870121178 \n",
      "iteration: 264, residual: 0.00011732346149812932 \n",
      "iteration: 297, residual: 1.4680820236446223e-5 \n",
      "iteration: 330, residual: 1.4766287460961432e-6 \n",
      "iteration: 363, residual: 2.419301547424064e-7 \n",
      "iteration: 396, residual: 4.121942510003526e-8 \n",
      "iteration: 429, residual: 3.2467463028607577e-9 \n",
      "iteration: 462, residual: 1.9867074780840544e-10 \n",
      "iteration: 495, residual: 2.590792155411517e-11 \n",
      "iteration: 528, residual: 2.512481595635462e-12 \n",
      "iteration: 561, residual: 3.0316985174046715e-13 \n",
      "iteration: 594, residual: 4.905125646631375e-14 \n",
      "iteration: 627, residual: 1.5131651520584218e-14 \n",
      "iteration: 660, residual: 6.089044468994093e-15 \n",
      "iteration: 693, residual: 4.3737714791252564e-15 \n",
      "iteration: 726, residual: 5.4930801582266845e-15 \n",
      "iteration: 759, residual: 6.836666485528232e-15 \n",
      "iteration: 792, residual: 4.864753555590494e-15 \n",
      "iteration: 825, residual: 6.089044468994093e-15 \n",
      "iteration: 858, residual: 6.661338147750939e-15 \n",
      "iteration: 891, residual: 4.803559250984066e-15 \n",
      "iteration: 924, residual: 6.5418425621716e-15 \n",
      "iteration: 957, residual: 6.89411847443645e-15 \n",
      "iteration: 990, residual: 5.273267194922012e-15 \n",
      "Time = 0.011807789999999986\n"
     ]
    },
    {
     "data": {
      "text/plain": [
       "PyObject <function show at 0x7f85e840eb90>"
      ]
     },
     "execution_count": 18,
     "metadata": {},
     "output_type": "execute_result"
    }
   ],
   "source": [
    "function gauss_sampling() \n",
    "    \n",
    "    S = randn(m)\n",
    "    \n",
    "end\n",
    "\n",
    "m = 10\n",
    "n = 10\n",
    "\n",
    "D = zeros(m,n)\n",
    "\n",
    "for i=1:min(m,n)   \n",
    "  D[i,i] = 10 + rand()   \n",
    "end\n",
    "\n",
    "lambda_min = minimum(diag(D'*D))\n",
    "lambda_sum = sum(diag(D'*D))\n",
    "rho = 1- lambda_min/lambda_sum\n",
    "println(\"rho = \",rho)\n",
    "\n",
    "(U,RU) = qr(randn(m,m))\n",
    "(V,RV) = qr(randn(n,n))\n",
    "A = U*D*V'\n",
    "\n",
    "x_star = randn(n)\n",
    "b = A*x_star\n",
    "\n",
    "x = zeros(n)  # initial iterate\n",
    "#x = c\n",
    "\n",
    "Binv = eye(n) # matrix B is one of the 2 parameters of the method\n",
    "\n",
    "T = 100*m       # no of iterations \n",
    "skip = round(T/30)    # we shall remember x each \"skip\" number of iterations\n",
    "\n",
    "# Now we solve the problem\n",
    "xs, fv = RandomLinearSolve(x, A, b, Binv, gauss_sampling, T, skip)\n",
    "\n",
    "# Let us now plot the results\n",
    "B = inv(Binv)\n",
    "PlotResults(B, x_star, xs, fv)\n"
   ]
  },
  {
   "cell_type": "markdown",
   "metadata": {},
   "source": [
    "## Problem E\n",
    "\n",
    "Can you come up with some other interesting sketching matrix $S$ not covered in the lecture? When would you use it? "
   ]
  },
  {
   "cell_type": "markdown",
   "metadata": {},
   "source": [
    "One possibility might be to set $S$ as $i$-th column of $A$, i.e $S=A_{:i}$. Together with $B=A^\\top A$, we can see that $B^{-1}A^\\top S=(A^{\\top}A)^{-1}A^\\top Ae_i =e_i$. Thus\n",
    "$$x_{k+1} \\leftarrow x_{k} - \\omega B^{-1} A^\\top S_k (S_k^\\top A B^{-1} A^\\top S_k)^\\dagger S_k^\\top (Ax_k-b)=\n",
    " x_{k} - c e_i \n",
    "$$\n",
    "for some constant $c$, which means that each iteration is only one coordinate of $x$ updated. It is possible to implement the algorithm above so that one don't need to compute $(A^\\top A)^{-1}$ and every iteration we need ${\\cal O}(m)$ time. Thus, this can be useful if $n$ is very large."
   ]
  }
 ],
 "metadata": {
  "kernelspec": {
   "display_name": "Julia 0.5.2",
   "language": "julia",
   "name": "julia-0.5"
  },
  "language_info": {
   "file_extension": ".jl",
   "mimetype": "application/julia",
   "name": "julia",
   "version": "0.5.2"
  }
 },
 "nbformat": 4,
 "nbformat_minor": 0
}
